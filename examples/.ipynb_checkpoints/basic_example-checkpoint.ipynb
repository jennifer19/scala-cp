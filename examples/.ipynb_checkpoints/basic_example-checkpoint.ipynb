{
 "cells": [
  {
   "cell_type": "code",
   "execution_count": 13,
   "metadata": {
    "collapsed": false
   },
   "outputs": [
    {
     "name": "stdout",
     "output_type": "stream",
     "text": [
      "Using cached version of cp-0.0.1-20170513.155506-6.jar\n"
     ]
    }
   ],
   "source": [
    "%AddJar https://oss.sonatype.org/content/repositories/snapshots/se/uu/it/cp/0.0.1-SNAPSHOT/cp-0.0.1-20170513.155506-6.jar"
   ]
  },
  {
   "cell_type": "code",
   "execution_count": 18,
   "metadata": {
    "collapsed": false
   },
   "outputs": [
    {
     "data": {
      "text/plain": [
       "Name: Compile Error\n",
       "Message: <console>:65: error: value petalLenght is not a member of IrisData\n",
       "                   dataPoint.petalLenght, dataPoint.petalWidth)\n",
       "                             ^\n",
       "<console>:90: error: value properTrainingSet is not a member of se.uu.it.cp.UnderlyingAlgorithm[IrisData]\n",
       "             val trainByDistance = this.properTrainingSet.sortBy { point =>\n",
       "                                        ^\n",
       "StackTrace: "
      ]
     },
     "execution_count": 18,
     "metadata": {},
     "output_type": "execute_result"
    }
   ],
   "source": [
    "{\n",
    "    \n",
    "import scala.io.Source\n",
    "    \n",
    "import se.uu.it.cp.UnderlyingAlgorithm\n",
    "\n",
    "// Parse dataset\n",
    "case class IrisData(\n",
    "    sepalLenght: Double, \n",
    "    sepalWidth: Double, \n",
    "    petalLength: Double, \n",
    "    petalWidth: Double,\n",
    "    species: String\n",
    ")\n",
    "val dataset = Source.fromFile(\"data/iris.data\").getLines\n",
    "    .map{ line =>\n",
    "        val split = line.split(\",\")\n",
    "        IrisData(split(0).toDouble, split(1).toDouble, \n",
    "            split(2).toDouble, split(3).toDouble, split(4))\n",
    "    }\n",
    "    .toSeq\n",
    "    \n",
    "// Split dataset\n",
    "val (training,test) = dataset.splitAt(100)\n",
    "val (properTraining, calibration) = dataset.splitAt(80)\n",
    "    \n",
    "// Define 5NN underlying algorithm\n",
    "val alg = new UnderlyingAlgorithm(properTraining) {\n",
    "    // Define how to make an IrisData from a feature sequence and a label\n",
    "    def makeDataPoint(features: Seq[Double], label: Double) = {\n",
    "        val species = label match {\n",
    "            case 0.0 => \"Iris-setosa\"\n",
    "            case 1.0 => \"Iris-versicolor\"\n",
    "            case 2.0 => \"Iris-virginica\"\n",
    "        }\n",
    "        IrisData(features(0), features(1), features(2), \n",
    "                 features(3), species)\n",
    "    }\n",
    "    // Define how to get feature sequence from IrisData\n",
    "    def getDataPointFeatures(dataPoint: IrisData) = {\n",
    "        Seq(dataPoint.sepalLenght, dataPoint.sepalWidth, \n",
    "            dataPoint.petalLenght, dataPoint.petalWidth)\n",
    "    }\n",
    "    // Define how to get Double representation of the label from IrisData\n",
    "    def getDataPointLabel(dataPoint: IrisData) = {\n",
    "        dataPoint.species match {\n",
    "            case \"Iris-setosa\" => 0.0\n",
    "            case \"Iris-versicolor\" => 1.0\n",
    "            case \"Iris-virginica\" => 2.0\n",
    "        }\n",
    "    }\n",
    "    // Define training procedure\n",
    "    def trainingProcedure(trainingSet: Seq[IrisData]) = (features: Seq[Double]) => {\n",
    "      val trainByDistance = trainingSet.sortBy { point =>\n",
    "        val squaredDist = getDataPointFeatures(point).zip(features).map {\n",
    "          case (q, p) => math.pow(q - p, 2)\n",
    "        }.reduce(_ + _)\n",
    "        math.sqrt(squaredDist)\n",
    "      }\n",
    "      trainByDistance.take(5)\n",
    "        .groupBy(getDataPointLabel(_))\n",
    "        .maxBy(_._2.size)\n",
    "        ._1\n",
    "    }\n",
    "    def nonConformityMeasure(newSample: IrisData) = {\n",
    "      // Fraction of different closest neighbours\n",
    "      val trainByDistance = this.properTrainingSet.sortBy { point =>\n",
    "        val squaredDist = getDataPointFeatures(point)\n",
    "        .zip(getDataPointFeatures(newSample)).map {\n",
    "          case (q, p) => math.pow(q - p, 2)\n",
    "        }.reduce(_ + _)\n",
    "        math.sqrt(squaredDist)\n",
    "      }\n",
    "      val nOfUnconformal = trainByDistance.take(5)\n",
    "        .count(getDataPointLabel(_) != getDataPointLabel(newSample))\n",
    "      nOfUnconformal.toDouble / 5\n",
    "    }\n",
    "}\n",
    "    \n",
    "}"
   ]
  },
  {
   "cell_type": "code",
   "execution_count": null,
   "metadata": {
    "collapsed": true
   },
   "outputs": [],
   "source": []
  }
 ],
 "metadata": {
  "kernelspec": {
   "display_name": "Apache Toree - Scala",
   "language": "scala",
   "name": "apache_toree_scala"
  },
  "language_info": {
   "file_extension": ".scala",
   "name": "scala",
   "version": "2.11.8"
  }
 },
 "nbformat": 4,
 "nbformat_minor": 2
}
